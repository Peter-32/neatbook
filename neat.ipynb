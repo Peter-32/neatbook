{
 "cells": [
  {
   "cell_type": "code",
   "execution_count": 12,
   "metadata": {},
   "outputs": [
    {
     "name": "stdout",
     "output_type": "stream",
     "text": [
      "col3\n",
      "2\n",
      "col5\n",
      "1\n",
      "        col1  col2   col3  col5\n",
      "col4                           \n",
      "5.0        1  11.0  test1  adsf\n",
      "3.0        2  11.0  test1  adsf\n",
      "6.0        3   9.0  test1  adsf\n",
      "8.0        4   8.0  test1  adsf\n",
      "10.0       5  10.0  test1  adsf\n",
      "14.0       6  11.0  test1  adsf\n",
      "87.0       6  12.0  test1  adsf\n",
      "999.0      7  13.0  test2  adsf\n",
      "9999.0     8  14.0  test2  adsf\n",
      "test1    0.75\n",
      "test2    0.25\n",
      "dtype: float64\n"
     ]
    },
    {
     "data": {
      "text/html": [
       "<div>\n",
       "<style>\n",
       "    .dataframe thead tr:only-child th {\n",
       "        text-align: right;\n",
       "    }\n",
       "\n",
       "    .dataframe thead th {\n",
       "        text-align: left;\n",
       "    }\n",
       "\n",
       "    .dataframe tbody tr th {\n",
       "        vertical-align: top;\n",
       "    }\n",
       "</style>\n",
       "<table border=\"1\" class=\"dataframe\">\n",
       "  <thead>\n",
       "    <tr style=\"text-align: right;\">\n",
       "      <th></th>\n",
       "      <th>col1</th>\n",
       "      <th>col2</th>\n",
       "      <th>col3</th>\n",
       "      <th>col5</th>\n",
       "    </tr>\n",
       "    <tr>\n",
       "      <th>col4</th>\n",
       "      <th></th>\n",
       "      <th></th>\n",
       "      <th></th>\n",
       "      <th></th>\n",
       "    </tr>\n",
       "  </thead>\n",
       "  <tbody>\n",
       "    <tr>\n",
       "      <th>5.0</th>\n",
       "      <td>1</td>\n",
       "      <td>11.0</td>\n",
       "      <td>test1</td>\n",
       "      <td>adsf</td>\n",
       "    </tr>\n",
       "    <tr>\n",
       "      <th>3.0</th>\n",
       "      <td>2</td>\n",
       "      <td>11.0</td>\n",
       "      <td>test1</td>\n",
       "      <td>adsf</td>\n",
       "    </tr>\n",
       "    <tr>\n",
       "      <th>6.0</th>\n",
       "      <td>3</td>\n",
       "      <td>9.0</td>\n",
       "      <td>test1</td>\n",
       "      <td>adsf</td>\n",
       "    </tr>\n",
       "    <tr>\n",
       "      <th>8.0</th>\n",
       "      <td>4</td>\n",
       "      <td>8.0</td>\n",
       "      <td>test1</td>\n",
       "      <td>adsf</td>\n",
       "    </tr>\n",
       "    <tr>\n",
       "      <th>10.0</th>\n",
       "      <td>5</td>\n",
       "      <td>10.0</td>\n",
       "      <td>test1</td>\n",
       "      <td>adsf</td>\n",
       "    </tr>\n",
       "    <tr>\n",
       "      <th>14.0</th>\n",
       "      <td>6</td>\n",
       "      <td>11.0</td>\n",
       "      <td>test1</td>\n",
       "      <td>adsf</td>\n",
       "    </tr>\n",
       "    <tr>\n",
       "      <th>87.0</th>\n",
       "      <td>6</td>\n",
       "      <td>12.0</td>\n",
       "      <td>test1</td>\n",
       "      <td>adsf</td>\n",
       "    </tr>\n",
       "    <tr>\n",
       "      <th>999.0</th>\n",
       "      <td>7</td>\n",
       "      <td>13.0</td>\n",
       "      <td>test2</td>\n",
       "      <td>adsf</td>\n",
       "    </tr>\n",
       "    <tr>\n",
       "      <th>9999.0</th>\n",
       "      <td>8</td>\n",
       "      <td>14.0</td>\n",
       "      <td>test2</td>\n",
       "      <td>adsf</td>\n",
       "    </tr>\n",
       "  </tbody>\n",
       "</table>\n",
       "</div>"
      ],
      "text/plain": [
       "        col1  col2   col3  col5\n",
       "col4                           \n",
       "5.0        1  11.0  test1  adsf\n",
       "3.0        2  11.0  test1  adsf\n",
       "6.0        3   9.0  test1  adsf\n",
       "8.0        4   8.0  test1  adsf\n",
       "10.0       5  10.0  test1  adsf\n",
       "14.0       6  11.0  test1  adsf\n",
       "87.0       6  12.0  test1  adsf\n",
       "999.0      7  13.0  test2  adsf\n",
       "9999.0     8  14.0  test2  adsf"
      ]
     },
     "execution_count": 12,
     "metadata": {},
     "output_type": "execute_result"
    }
   ],
   "source": [
    "import pandas as pd\n",
    "import numpy as np\n",
    "import random\n",
    "\n",
    "# Maybe: Print all of this code into Python \n",
    "# code to be used or not used by others\n",
    "# Probably should keep the function names.\n",
    "class Neat:\n",
    "    \n",
    "    def __init__(self, df, targetY, indexColumns=[]):        \n",
    "        self.df = df        \n",
    "        self.targetY = self._cleanColumnName(targetY)        \n",
    "        self.indexColumns = self._cleanColumnNamesArray(indexColumns)            \n",
    "        self.targetMappings = {}\n",
    "        self.numberColumns = []\n",
    "        self.categoryColumns = []\n",
    "        self.datetimeColumns = []\n",
    "        self.medians = []\n",
    "        self.lowerBounds = []\n",
    "        self.upperBounds = []\n",
    "        self.uniqueCategoryValues = {}\n",
    "        self.categoryFrequencies = {}\n",
    "        # TargetY\n",
    "        self._setTargetMappings()\n",
    "        self._convertTargetToNumeric()\n",
    "        self._dropNATargetRows()        \n",
    "        # Column Metadata\n",
    "        self._cleanColumnNamesDF()        \n",
    "        self._setColumnDataTypes()        \n",
    "        # Index\n",
    "        self._dropDuplicatesAndMissingRowsIfIndexIsSpecified()    \n",
    "        self._addIndex()\n",
    "        # Numbers\n",
    "        self._saveMediansAndBounds()\n",
    "        self._fixMissingNumValuesAndInfinity()\n",
    "        self._fixHighLeveragePoints()\n",
    "        # Categories\n",
    "        self._saveUniqueCategoryValues()   \n",
    "        self._saveCategoryFrequencies()\n",
    "        self._dropCategoryColumnsWithAllMissingValues()\n",
    "        self._fixMissingCategoryValues()\n",
    "        self._dropColumnsWithTooManyUniqueValues()\n",
    "        #print(self.uniqueCategoryValues)    \n",
    "        print(self.df)\n",
    "\n",
    "    \n",
    "    def _cleanColumnNamesArray(self, indexColumns):\n",
    "        if type(indexColumns) == str:\n",
    "            indexColumns = [indexColumns]\n",
    "        arr = []\n",
    "        for column in indexColumns:\n",
    "            arr.append(self._cleanColumnName(column))\n",
    "        return arr\n",
    "    \n",
    "    def _cleanColumnName(self, string):\n",
    "        return string.strip().lower().replace(' ', '_')\n",
    "    \n",
    "    def _setTargetMappings(self):\n",
    "        if df[self.targetY].dtype == 'object': # is a string\n",
    "            i = 0      \n",
    "            for value in self.df[self.targetY].unique():\n",
    "                if value != None and value.strip() != \"\":\n",
    "                    self.targetMappings[value] = i\n",
    "                    i = i + 1\n",
    "\n",
    "    def _convertTargetToNumeric(self):\n",
    "        if df[self.targetY].dtype == 'object': # is a string        \n",
    "            self.df[self.targetY] = self.df[self.targetY].map(self.targetMappings)\n",
    "    \n",
    "    def _dropNATargetRows(self):    \n",
    "        rowsToDrop = []\n",
    "        for i, row in self.df.iterrows():    \n",
    "            rowsToDrop.append(i) if np.isnan(row[self.targetY]) else None            \n",
    "        self.df = self.df.drop(self.df.index[rowsToDrop])    \n",
    "    \n",
    "    def _cleanColumnNamesDF(self):\n",
    "        self.df.columns = df.columns.str.strip().str.lower().str.replace(' ', '_')    \n",
    "        \n",
    "    def _setColumnDataTypes(self):\n",
    "        columns = self.df.columns.values.tolist()\n",
    "        for column in columns:    \n",
    "            if column == self.targetY or column in indexColumns:\n",
    "                pass\n",
    "            elif self.df[column].dtype == 'int64' or self.df[column].dtype == 'float64':\n",
    "                self.numberColumns.append(column)\n",
    "            elif df[column].dtype == 'object':\n",
    "                self.categoryColumns.append(column)\n",
    "            else:\n",
    "                self.datetimeColumns.append(column)     \n",
    "    \n",
    "    def _dropDuplicatesAndMissingRowsIfIndexIsSpecified(self):\n",
    "        rowsToDrop = []\n",
    "        if self.indexColumns != []:\n",
    "            self.df = self.df.drop_duplicates(subset=self.indexColumns)\n",
    "            for i, row in self.df.iterrows(): \n",
    "                for column in self.indexColumns:\n",
    "                    if ((self.df[column].dtype == 'int64' or self.df[column].dtype == 'float64') and (np.isnan(row[column]) or np.isinf(row[column]))) or row[column] == None:\n",
    "                        rowsToDrop.append(i)\n",
    "        self.df = self.df.drop(self.df.index[rowsToDrop])    \n",
    "        \n",
    "    def _addIndex(self):\n",
    "        if self.indexColumns == []:\n",
    "            self.df = self.df.set_index(np.arange(1,len(self.df.index)+1))\n",
    "        else:\n",
    "            self.df = self.df.set_index(self.indexColumns)                    \n",
    "        \n",
    "    def _saveMediansAndBounds(self):        \n",
    "        firstQuantiles = self.df.quantile(.25)\n",
    "        thirdQuantiles = self.df.quantile(.75)\n",
    "        \n",
    "        self.medians = self.df.quantile(.50)\n",
    "        self.lowerBounds = {}\n",
    "        self.upperBounds = {}\n",
    "        for column in self.numberColumns:            \n",
    "            self.lowerBounds[column] = self.medians[column] - 2*(self.medians[column] - firstQuantiles[column])\n",
    "            self.upperBounds[column] = self.medians[column] + 2*(thirdQuantiles[column] - self.medians[column])        \n",
    "        \n",
    "    def _fixMissingNumValuesAndInfinity(self):\n",
    "        self.df = self.df.fillna(self.medians) # optionally: replace self.medians with 0\n",
    "        df.replace([np.inf, -np.inf], np.nan)\n",
    "        self.df = self.df.fillna(self.upperBounds)        \n",
    "        \n",
    "    def _fixHighLeveragePoints(self):\n",
    "        for i, row in self.df.iterrows(): \n",
    "            for column in self.numberColumns:\n",
    "                if row[column] > self.upperBounds[column]:\n",
    "                    self.df.at[i, column] = self.upperBounds[column]\n",
    "                if row[column] < self.lowerBounds[column]:\n",
    "                    self.df.at[i, column] = self.lowerBounds[column]\n",
    "      \n",
    "    def _saveUniqueCategoryValues(self):\n",
    "        for column in self.categoryColumns:\n",
    "            self.uniqueCategoryValues[column] = self.df[column].unique()\n",
    "            \n",
    "    def _saveCategoryFrequencies(self):\n",
    "        for column in self.categoryColumns:\n",
    "            categoryFrequencies[column] = pd.value_counts(df[column].values, sort=False, normalize=True)\n",
    "        \n",
    "    def _dropCategoryColumnsWithAllMissingValues(self):\n",
    "        columnsToRemove = []\n",
    "        for column in self.categoryColumns:\n",
    "            if len(self.categoryFrequencies[column].dropna()) == 0:   ### MODES IS DROPPED135r1rfeefoiqweuoiqu\n",
    "                columnsToRemove.append(column)\n",
    "        self._dropCategoryColumns(columnsToRemove)\n",
    "        \n",
    "    def _dropCategoryColumns(self, columnsToRemove):\n",
    "        self.df = self.df.drop(columnsToRemove, 1)         \n",
    "        for column in columnsToRemove:\n",
    "            self.categoryColumns.remove(column) \n",
    "            \n",
    "    def _fixMissingCategoryValues(self):\n",
    "        for i, row in self.df.iterrows(): \n",
    "            for column in self.categoryColumns:        \n",
    "                if row[column] == None:\n",
    "                    modes = self.modes[column].dropna()    ### MODES IS DROPPED135r1rfeefoiqweuoiqu  \n",
    "                      ### MODES IS DROPPED135r1rfeefoiqweuoiqu\n",
    "                        #        #print(categoryFrequencies['col2']['a'])\n",
    "                    self.df.at[i, column] = random.choice(modes) # random if tied\n",
    "                            \n",
    "    def _dropColumnsWithTooManyUniqueValues(self):\n",
    "        columnsToRemove = self._findColumnsWithTooManyUniqueValues()\n",
    "        self._dropCategoryColumns(columnsToRemove)\n",
    "       \n",
    "    def _findColumnsWithTooManyUniqueValues(self):\n",
    "        columnsToRemove = []\n",
    "        for column in self.categoryColumns:\n",
    "            print(column)\n",
    "            print(len(self.uniqueCategoryValues[column]))\n",
    "            if len(self.uniqueCategoryValues[column]) < .1 * self.df.shape[0]:\n",
    "                columnsToRemove.append(column)\n",
    "        return columnsToRemove    ### JFIX THIS AND ALSO MAKE THE OTHER 20% CATEGORY IF NEEDED\n",
    "    \n",
    "  \n",
    "                \n",
    "df = pd.DataFrame({'col1': ['a','b','c','d','e','g','z','z','i','t'], 'col2': [None,None,None,9,5,10,11,12,13,14]\n",
    "                  , 'col3': ['test1','test1','test1','test1',None,None,'test1','test1','test2','test2']\n",
    "                  , 'col4': [None, 5, 3 ,6 ,8, 10, 14, 87, 999 ,9999]\n",
    "                  , 'col5': [None,None,None,None,'adsf',None,None,None,None,None]})                \n",
    "targetY = 'col1'\n",
    "#indexColumns = 'col2'\n",
    "indexColumns = ['col4']\n",
    "\n",
    "neat = Neat(df, targetY, indexColumns)\n",
    "\n",
    "neat.df    \n",
    "    \n",
    "\n",
    "    \n",
    "    \n"
   ]
  },
  {
   "cell_type": "code",
   "execution_count": null,
   "metadata": {
    "collapsed": true
   },
   "outputs": [],
   "source": []
  },
  {
   "cell_type": "code",
   "execution_count": null,
   "metadata": {
    "collapsed": true
   },
   "outputs": [],
   "source": []
  },
  {
   "cell_type": "code",
   "execution_count": null,
   "metadata": {
    "collapsed": true
   },
   "outputs": [],
   "source": []
  },
  {
   "cell_type": "code",
   "execution_count": 104,
   "metadata": {},
   "outputs": [
    {
     "name": "stdout",
     "output_type": "stream",
     "text": [
      "['col1', 'col2']\n",
      "['col1', 'col2']\n",
      "[]\n",
      "[]\n"
     ]
    }
   ],
   "source": [
    "df = pd.DataFrame({'col1': [1,1, 2,3,4,5], 'col2': [3, 3,None, None, None,None]})\n",
    "df\n",
    "df.columns.values.tolist()\n",
    "df.dtypes\n",
    "\n",
    "    \n",
    "       \n",
    "        \n",
    "print(numberColumns)        \n",
    "print(categoryColumns)        \n",
    "print(datetimeColumns)        \n"
   ]
  },
  {
   "cell_type": "code",
   "execution_count": 181,
   "metadata": {},
   "outputs": [
    {
     "name": "stdout",
     "output_type": "stream",
     "text": [
      "col1    1.5\n",
      "col2    3.0\n",
      "Name: 0.5, dtype: float64\n",
      "A\n",
      "   col1  col2\n",
      "0   1.0   2.0\n",
      "1   2.0   4.0\n",
      "2   1.5   3.0\n"
     ]
    }
   ],
   "source": [
    "df = pd.DataFrame({'col1': [1,2,None],'col2': [2,4,None]})\n",
    "#print(df)\n",
    "\n",
    "\n",
    "#print(df.quantile(.25))\n",
    "#print(df.quantile(.5))\n",
    "#print(df.quantile(.75))\n",
    "print(df.quantile(.5))\n",
    "\n",
    "df = df.fillna(df.median())\n",
    "\n",
    "\n",
    "\n",
    "\n",
    "print(\"A\")\n",
    "print(df)"
   ]
  },
  {
   "cell_type": "code",
   "execution_count": 144,
   "metadata": {},
   "outputs": [
    {
     "data": {
      "text/plain": [
       "2"
      ]
     },
     "execution_count": 144,
     "metadata": {},
     "output_type": "execute_result"
    }
   ],
   "source": [
    "round(2.50)"
   ]
  },
  {
   "cell_type": "code",
   "execution_count": 190,
   "metadata": {},
   "outputs": [
    {
     "data": {
      "text/plain": [
       "col1     6.0\n",
       "col2    11.0\n",
       "dtype: float64"
      ]
     },
     "execution_count": 190,
     "metadata": {},
     "output_type": "execute_result"
    }
   ],
   "source": [
    "df.median()"
   ]
  },
  {
   "cell_type": "code",
   "execution_count": 206,
   "metadata": {},
   "outputs": [
    {
     "name": "stdout",
     "output_type": "stream",
     "text": [
      "col1    4.5\n",
      "col2    9.5\n",
      "Name: 0.25, dtype: float64\n",
      "col1     6.0\n",
      "col2    11.0\n",
      "Name: 0.5, dtype: float64\n",
      "10.5\n",
      "20.5\n"
     ]
    }
   ],
   "source": [
    "quantile1 = df.quantile(.25)\n",
    "quantile3 = df.quantile(.75)\n",
    "\n",
    "\n",
    "medians = df.quantile(.50)\n",
    "print(quantile1)\n",
    "print(medians)\n",
    "\n",
    "# for col in medians:\n",
    "#     print(col)\n",
    "    \n",
    "\n",
    "\n",
    "\n"
   ]
  },
  {
   "cell_type": "code",
   "execution_count": 26,
   "metadata": {
    "collapsed": true
   },
   "outputs": [],
   "source": [
    "a = [\"a\"]\n",
    "if a == []:\n",
    "    print(\"HI\")"
   ]
  },
  {
   "cell_type": "code",
   "execution_count": 37,
   "metadata": {},
   "outputs": [
    {
     "data": {
      "text/plain": [
       "True"
      ]
     },
     "execution_count": 37,
     "metadata": {},
     "output_type": "execute_result"
    }
   ],
   "source": [
    "type(['a'])\n",
    "type('a')==str"
   ]
  },
  {
   "cell_type": "code",
   "execution_count": 18,
   "metadata": {},
   "outputs": [
    {
     "name": "stdout",
     "output_type": "stream",
     "text": [
      "{'a': 0, 'b': 1}\n"
     ]
    },
    {
     "data": {
      "text/html": [
       "<div>\n",
       "<style>\n",
       "    .dataframe thead tr:only-child th {\n",
       "        text-align: right;\n",
       "    }\n",
       "\n",
       "    .dataframe thead th {\n",
       "        text-align: left;\n",
       "    }\n",
       "\n",
       "    .dataframe tbody tr th {\n",
       "        vertical-align: top;\n",
       "    }\n",
       "</style>\n",
       "<table border=\"1\" class=\"dataframe\">\n",
       "  <thead>\n",
       "    <tr style=\"text-align: right;\">\n",
       "      <th></th>\n",
       "      <th>col1</th>\n",
       "      <th>col2</th>\n",
       "    </tr>\n",
       "  </thead>\n",
       "  <tbody>\n",
       "    <tr>\n",
       "      <th>0</th>\n",
       "      <td>1</td>\n",
       "      <td>0.0</td>\n",
       "    </tr>\n",
       "    <tr>\n",
       "      <th>1</th>\n",
       "      <td>1</td>\n",
       "      <td>1.0</td>\n",
       "    </tr>\n",
       "    <tr>\n",
       "      <th>2</th>\n",
       "      <td>2</td>\n",
       "      <td>NaN</td>\n",
       "    </tr>\n",
       "    <tr>\n",
       "      <th>3</th>\n",
       "      <td>3</td>\n",
       "      <td>NaN</td>\n",
       "    </tr>\n",
       "    <tr>\n",
       "      <th>4</th>\n",
       "      <td>4</td>\n",
       "      <td>NaN</td>\n",
       "    </tr>\n",
       "    <tr>\n",
       "      <th>5</th>\n",
       "      <td>5</td>\n",
       "      <td>NaN</td>\n",
       "    </tr>\n",
       "  </tbody>\n",
       "</table>\n",
       "</div>"
      ],
      "text/plain": [
       "   col1  col2\n",
       "0     1   0.0\n",
       "1     1   1.0\n",
       "2     2   NaN\n",
       "3     3   NaN\n",
       "4     4   NaN\n",
       "5     5   NaN"
      ]
     },
     "execution_count": 18,
     "metadata": {},
     "output_type": "execute_result"
    }
   ],
   "source": [
    "df = pd.DataFrame({'col1': [1,1, 2,3,4,5], 'col2': ['a', 'b',None, None, None,None]})\n",
    "\n",
    "# for cat in ['col2','col1']:\n",
    "#     print(\"Levels for catgeory '{0}': {1}\".format(cat, df[cat].unique()))\n",
    "\n",
    "# df['col2']=df['col2'].map({'a':0,'b':1})\n",
    "\n",
    "# df_class = df['col2'].values\n",
    "# df_class\n",
    "\n",
    "# for cat in ['col2']:\n",
    "#     print(cat)\n",
    "    \n",
    "i = 0\n",
    "targetMappings = {}\n",
    "for value in df['col2'].unique():\n",
    "    if value != None and value.strip() != \"\":\n",
    "        targetMappings[value] = i\n",
    "        i = i + 1\n",
    "print(targetMappings)\n",
    "\n",
    "\n",
    "df['col2'] = df['col2'].map(targetMappings)\n",
    "df\n"
   ]
  },
  {
   "cell_type": "code",
   "execution_count": null,
   "metadata": {
    "collapsed": true
   },
   "outputs": [],
   "source": []
  },
  {
   "cell_type": "code",
   "execution_count": 38,
   "metadata": {},
   "outputs": [
    {
     "name": "stdout",
     "output_type": "stream",
     "text": [
      "{'col2': array(['a', 'b', 'c'], dtype=object)}\n",
      "0.333333333333\n",
      "{'col2': a    0.333333\n",
      "b    0.500000\n",
      "c    0.166667\n",
      "dtype: float64}\n"
     ]
    }
   ],
   "source": [
    "df = pd.DataFrame({'col1': [1,1, 2,3,4,5], 'col2': ['a', 'b','b', 'b', 'a', 'c']})\n",
    "uniqueCategoryValues = {}\n",
    "categoryFrequencies = {}\n",
    "# rowsToDrop = []\n",
    "# for i, row in df.iterrows():    \n",
    "#     rowsToDrop.append(i) if np.isnan(row['col2']) else None            \n",
    "# df = df.drop(df.index[rowsToDrop])\n",
    "# df\n",
    "# a = 'col2'\n",
    "#print(df.a.value_counts(normalize=True))\n",
    "#print(pd.value_counts(df['col3'].values, sort=False, normalize=True))\n",
    "uniqueCategoryValues['col2'] = df['col2'].unique()\n",
    "print(uniqueCategoryValues)\n",
    "categoryFrequencies['col2'] = pd.value_counts(df['col2'].values, sort=False, normalize=True)\n",
    "print(categoryFrequencies['col2']['a'])\n",
    "print(categoryFrequencies)\n"
   ]
  },
  {
   "cell_type": "code",
   "execution_count": null,
   "metadata": {
    "collapsed": true
   },
   "outputs": [],
   "source": []
  },
  {
   "cell_type": "code",
   "execution_count": null,
   "metadata": {
    "collapsed": true
   },
   "outputs": [],
   "source": []
  },
  {
   "cell_type": "code",
   "execution_count": null,
   "metadata": {
    "collapsed": true
   },
   "outputs": [],
   "source": []
  },
  {
   "cell_type": "code",
   "execution_count": null,
   "metadata": {
    "collapsed": true
   },
   "outputs": [],
   "source": []
  },
  {
   "cell_type": "code",
   "execution_count": null,
   "metadata": {
    "collapsed": true
   },
   "outputs": [],
   "source": []
  },
  {
   "cell_type": "code",
   "execution_count": null,
   "metadata": {
    "collapsed": true
   },
   "outputs": [],
   "source": []
  }
 ],
 "metadata": {
  "kernelspec": {
   "display_name": "Python 3",
   "language": "python",
   "name": "python3"
  },
  "language_info": {
   "codemirror_mode": {
    "name": "ipython",
    "version": 3
   },
   "file_extension": ".py",
   "mimetype": "text/x-python",
   "name": "python",
   "nbconvert_exporter": "python",
   "pygments_lexer": "ipython3",
   "version": "3.6.1"
  }
 },
 "nbformat": 4,
 "nbformat_minor": 2
}
