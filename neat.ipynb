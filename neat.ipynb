{
 "cells": [
  {
   "cell_type": "code",
   "execution_count": 41,
   "metadata": {},
   "outputs": [
    {
     "name": "stdout",
     "output_type": "stream",
     "text": [
      "['col2']\n",
      "         col1\n",
      "col2         \n",
      "NaN         a\n",
      "-10000.0    d\n",
      " 9.0        e\n",
      " 10.0       g\n",
      " 11.0       z\n",
      " 12.0       h\n",
      " 13.0       i\n",
      " 14.0       t\n"
     ]
    },
    {
     "ename": "TypeError",
     "evalue": "ufunc 'isnan' not supported for the input types, and the inputs could not be safely coerced to any supported types according to the casting rule ''safe''",
     "output_type": "error",
     "traceback": [
      "\u001b[0;31m---------------------------------------------------------------------------\u001b[0m",
      "\u001b[0;31mTypeError\u001b[0m                                 Traceback (most recent call last)",
      "\u001b[0;32m<ipython-input-41-f553dbb3deb6>\u001b[0m in \u001b[0;36m<module>\u001b[0;34m()\u001b[0m\n\u001b[1;32m    104\u001b[0m \u001b[0;34m\u001b[0m\u001b[0m\n\u001b[1;32m    105\u001b[0m \u001b[0;34m\u001b[0m\u001b[0m\n\u001b[0;32m--> 106\u001b[0;31m \u001b[0mneat\u001b[0m \u001b[0;34m=\u001b[0m \u001b[0mNeat\u001b[0m\u001b[0;34m(\u001b[0m\u001b[0mdf\u001b[0m\u001b[0;34m,\u001b[0m \u001b[0mtargetY\u001b[0m\u001b[0;34m,\u001b[0m \u001b[0mindexColumns\u001b[0m\u001b[0;34m)\u001b[0m\u001b[0;34m\u001b[0m\u001b[0m\n\u001b[0m\u001b[1;32m    107\u001b[0m \u001b[0;34m\u001b[0m\u001b[0m\n\u001b[1;32m    108\u001b[0m \u001b[0;34m\u001b[0m\u001b[0m\n",
      "\u001b[0;32m<ipython-input-41-f553dbb3deb6>\u001b[0m in \u001b[0;36m__init__\u001b[0;34m(self, df, targetY, indexColumns)\u001b[0m\n\u001b[1;32m     22\u001b[0m \u001b[0;34m\u001b[0m\u001b[0m\n\u001b[1;32m     23\u001b[0m         \u001b[0mself\u001b[0m\u001b[0;34m.\u001b[0m\u001b[0m_setColumnDataTypes\u001b[0m\u001b[0;34m(\u001b[0m\u001b[0;34m)\u001b[0m\u001b[0;34m\u001b[0m\u001b[0m\n\u001b[0;32m---> 24\u001b[0;31m         \u001b[0mself\u001b[0m\u001b[0;34m.\u001b[0m\u001b[0m_dropNATargets\u001b[0m\u001b[0;34m(\u001b[0m\u001b[0;34m)\u001b[0m\u001b[0;34m\u001b[0m\u001b[0m\n\u001b[0m\u001b[1;32m     25\u001b[0m \u001b[0;34m\u001b[0m\u001b[0m\n\u001b[1;32m     26\u001b[0m         \u001b[0mself\u001b[0m\u001b[0;34m.\u001b[0m\u001b[0m_saveMediansAndBounds\u001b[0m\u001b[0;34m(\u001b[0m\u001b[0;34m)\u001b[0m\u001b[0;34m\u001b[0m\u001b[0m\n",
      "\u001b[0;32m<ipython-input-41-f553dbb3deb6>\u001b[0m in \u001b[0;36m_dropNATargets\u001b[0;34m(self)\u001b[0m\n\u001b[1;32m     65\u001b[0m         \u001b[0mrowsToDrop\u001b[0m \u001b[0;34m=\u001b[0m \u001b[0;34m[\u001b[0m\u001b[0;34m]\u001b[0m\u001b[0;34m\u001b[0m\u001b[0m\n\u001b[1;32m     66\u001b[0m         \u001b[0;32mfor\u001b[0m \u001b[0mi\u001b[0m\u001b[0;34m,\u001b[0m \u001b[0mrow\u001b[0m \u001b[0;32min\u001b[0m \u001b[0mself\u001b[0m\u001b[0;34m.\u001b[0m\u001b[0mdf\u001b[0m\u001b[0;34m.\u001b[0m\u001b[0miterrows\u001b[0m\u001b[0;34m(\u001b[0m\u001b[0;34m)\u001b[0m\u001b[0;34m:\u001b[0m\u001b[0;34m\u001b[0m\u001b[0m\n\u001b[0;32m---> 67\u001b[0;31m             \u001b[0mrowsToDrop\u001b[0m\u001b[0;34m.\u001b[0m\u001b[0mappend\u001b[0m\u001b[0;34m(\u001b[0m\u001b[0mi\u001b[0m\u001b[0;34m)\u001b[0m \u001b[0;32mif\u001b[0m \u001b[0mnp\u001b[0m\u001b[0;34m.\u001b[0m\u001b[0misnan\u001b[0m\u001b[0;34m(\u001b[0m\u001b[0mrow\u001b[0m\u001b[0;34m[\u001b[0m\u001b[0mself\u001b[0m\u001b[0;34m.\u001b[0m\u001b[0mtargetY\u001b[0m\u001b[0;34m]\u001b[0m\u001b[0;34m)\u001b[0m \u001b[0;32melse\u001b[0m \u001b[0;32mNone\u001b[0m\u001b[0;34m\u001b[0m\u001b[0m\n\u001b[0m\u001b[1;32m     68\u001b[0m         \u001b[0mself\u001b[0m\u001b[0;34m.\u001b[0m\u001b[0mdf\u001b[0m \u001b[0;34m=\u001b[0m \u001b[0mself\u001b[0m\u001b[0;34m.\u001b[0m\u001b[0mdf\u001b[0m\u001b[0;34m.\u001b[0m\u001b[0mdrop\u001b[0m\u001b[0;34m(\u001b[0m\u001b[0mself\u001b[0m\u001b[0;34m.\u001b[0m\u001b[0mdf\u001b[0m\u001b[0;34m.\u001b[0m\u001b[0mindex\u001b[0m\u001b[0;34m[\u001b[0m\u001b[0mrowsToDrop\u001b[0m\u001b[0;34m]\u001b[0m\u001b[0;34m)\u001b[0m\u001b[0;34m\u001b[0m\u001b[0m\n\u001b[1;32m     69\u001b[0m \u001b[0;34m\u001b[0m\u001b[0m\n",
      "\u001b[0;31mTypeError\u001b[0m: ufunc 'isnan' not supported for the input types, and the inputs could not be safely coerced to any supported types according to the casting rule ''safe''"
     ]
    }
   ],
   "source": [
    "import pandas as pd\n",
    "import numpy as np\n",
    "\n",
    "# Maybe: Print all of this code into Python \n",
    "# code to be used or not used by others\n",
    "# Probably should keep the function names.\n",
    "class Neat:\n",
    "    \n",
    "    def __init__(self, df, targetY, indexColumns=[]):        \n",
    "        self.df = df        \n",
    "        self.targetY = self._cleanColumnName(targetY)        \n",
    "        self.indexColumns = self._cleanColumnNames(indexColumns)            \n",
    "        self.targetMappings = {}\n",
    "        self.numberColumns = []\n",
    "        self.categoryColumns = []\n",
    "        self.datetimeColumns = []\n",
    "        \n",
    "        self._setTargetMappings()\n",
    "        self._convertTargetToNumeric()\n",
    "        \n",
    "        self._cleanDFColumnNames()        \n",
    "        self.convertTargetColumnToNumeric()\n",
    "        self._dropNATargets()\n",
    "        self._dropDuplicatesIfIndexIsSpecified()    \n",
    "        self._setIndex()\n",
    "        \n",
    "        self._setColumnDataTypes()\n",
    "        \n",
    "        self._saveMediansAndBounds()\n",
    "        self._fixMissingValuesAndInfinity()\n",
    "        self._setValuesToWithinBounds()\n",
    "    \n",
    "    def _cleanColumnNames(self, indexColumns):\n",
    "        if type(indexColumns) == str:\n",
    "            indexColumns = [indexColumns]\n",
    "        arr = []\n",
    "        for column in indexColumns:\n",
    "            arr.append(self._cleanColumnName(column))\n",
    "        return arr\n",
    "    \n",
    "    def _cleanColumnName(self, string):\n",
    "        return string.strip().lower().replace(' ', '_')\n",
    "    \n",
    "    def _cleanDFColumnNames(self):\n",
    "        self.df.columns = df.columns.str.strip().str.lower().str.replace(' ', '_')    \n",
    "    \n",
    "    def _setTargetMappings(self):\n",
    "        i = 0        \n",
    "        for value in self.df[self.targetY].unique():\n",
    "            if value != None and value.strip() != \"\":\n",
    "                self.targetMappings[value] = i\n",
    "                i = i + 1\n",
    "        \n",
    "    def _convertTargetToNumeric(self):\n",
    "        self.df[self.targetY] = self.df[self.targetY].map(targetMappings)\n",
    "    \n",
    "    def _dropDuplicatesIfIndexIsSpecified(self):\n",
    "        if self.indexColumns != []:\n",
    "            self.df = self.df.drop_duplicates(subset=self.indexColumns)\n",
    "        \n",
    "    def _setIndex(self):\n",
    "        if self.indexColumns == []:\n",
    "            self.df = self.df.set_index(np.arange(1,len(self.df.index)+1))\n",
    "        else:\n",
    "            self.df = self.df.set_index(self.indexColumns)                    \n",
    "            \n",
    "    def _setColumnDataTypes(self):\n",
    "        columns = self.df.columns.values.tolist()\n",
    "        for column in columns:    \n",
    "            if self.df[column].dtype == 'int64' or self.df[column].dtype == 'float64':\n",
    "                self.numberColumns.append(column)\n",
    "            elif df[column].dtype == 'object':\n",
    "                self.categoryColumns.append(column)\n",
    "            else:\n",
    "                self.datetimeColumns.append(column) \n",
    "\n",
    "    def _dropNATargets(self):    \n",
    "        rowsToDrop = []\n",
    "        for i, row in self.df.iterrows():    \n",
    "            rowsToDrop.append(i) if np.isnan(row[self.targetY]) else None            \n",
    "        self.df = self.df.drop(self.df.index[rowsToDrop])\n",
    "\n",
    "\n",
    "        \n",
    "    def _saveMediansAndBounds(self):        \n",
    "        firstQuantiles = self.df.quantile(.25)\n",
    "        thirdQuantiles = self.df.quantile(.75)\n",
    "        \n",
    "        self.medians = self.df.quantile(.50)\n",
    "        self.lowerBounds = {}\n",
    "        self.upperBounds = {}\n",
    "        for column in self.numberColumns:            \n",
    "            self.lowerBounds[column] = self.medians[column] - 2*(self.medians[column] - firstQuantiles[column])\n",
    "            self.upperBounds[column] = self.medians[column] + 2*(thirdQuantiles[column] - self.medians[column])        \n",
    "        \n",
    "    def _fixMissingValuesAndInfinity(self):\n",
    "        self.df = self.df.fillna(self.medians)\n",
    "        self._fixInfinityValues()\n",
    "    \n",
    "    def _fixInfinityValues(self):\n",
    "        df.replace([np.inf, -np.inf], np.nan)\n",
    "        self.df = self.df.fillna(self.upperBounds)\n",
    "        \n",
    "    def _setValuesToWithinBounds(self):\n",
    "        for i, row in self.df.iterrows(): \n",
    "            for column in self.numberColumns:\n",
    "                if row[column] > self.upperBounds[column]:\n",
    "                    row[column] = self.upperBounds[column]\n",
    "                if row[column] < self.lowerBounds[column]:\n",
    "                    print(\"HI\")\n",
    "                    row[column] = self.lowerBounds[column]\n",
    "                    \n",
    "\n",
    "df = pd.DataFrame({'col1': ['a','b','c','d','e','g','z','h','i','t'], 'col2': [None,None,None,-10000,9,10,11,12,13,14]})                \n",
    "targetY = 'col1'\n",
    "indexColumns = 'col2'\n",
    "\n",
    "\n",
    "neat = Neat(df, targetY, indexColumns)\n",
    "\n",
    "\n",
    "\n",
    "\n",
    "neat.df    \n",
    "    \n",
    "\n",
    "    \n",
    "    \n"
   ]
  },
  {
   "cell_type": "code",
   "execution_count": null,
   "metadata": {
    "collapsed": true
   },
   "outputs": [],
   "source": []
  },
  {
   "cell_type": "code",
   "execution_count": null,
   "metadata": {
    "collapsed": true
   },
   "outputs": [],
   "source": []
  },
  {
   "cell_type": "code",
   "execution_count": null,
   "metadata": {
    "collapsed": true
   },
   "outputs": [],
   "source": []
  },
  {
   "cell_type": "code",
   "execution_count": null,
   "metadata": {
    "collapsed": true
   },
   "outputs": [],
   "source": []
  },
  {
   "cell_type": "code",
   "execution_count": null,
   "metadata": {
    "collapsed": true
   },
   "outputs": [],
   "source": []
  },
  {
   "cell_type": "code",
   "execution_count": null,
   "metadata": {
    "collapsed": true
   },
   "outputs": [],
   "source": []
  },
  {
   "cell_type": "code",
   "execution_count": null,
   "metadata": {
    "collapsed": true
   },
   "outputs": [],
   "source": []
  },
  {
   "cell_type": "code",
   "execution_count": null,
   "metadata": {
    "collapsed": true
   },
   "outputs": [],
   "source": []
  },
  {
   "cell_type": "code",
   "execution_count": null,
   "metadata": {
    "collapsed": true
   },
   "outputs": [],
   "source": []
  },
  {
   "cell_type": "code",
   "execution_count": 104,
   "metadata": {},
   "outputs": [
    {
     "name": "stdout",
     "output_type": "stream",
     "text": [
      "['col1', 'col2']\n",
      "['col1', 'col2']\n",
      "[]\n",
      "[]\n"
     ]
    }
   ],
   "source": [
    "df = pd.DataFrame({'col1': [1,1, 2,3,4,5], 'col2': [3, 3,None, None, None,None]})\n",
    "df\n",
    "df.columns.values.tolist()\n",
    "df.dtypes\n",
    "\n",
    "    \n",
    "       \n",
    "        \n",
    "print(numberColumns)        \n",
    "print(categoryColumns)        \n",
    "print(datetimeColumns)        \n"
   ]
  },
  {
   "cell_type": "code",
   "execution_count": 181,
   "metadata": {},
   "outputs": [
    {
     "name": "stdout",
     "output_type": "stream",
     "text": [
      "col1    1.5\n",
      "col2    3.0\n",
      "Name: 0.5, dtype: float64\n",
      "A\n",
      "   col1  col2\n",
      "0   1.0   2.0\n",
      "1   2.0   4.0\n",
      "2   1.5   3.0\n"
     ]
    }
   ],
   "source": [
    "df = pd.DataFrame({'col1': [1,2,None],'col2': [2,4,None]})\n",
    "#print(df)\n",
    "\n",
    "\n",
    "#print(df.quantile(.25))\n",
    "#print(df.quantile(.5))\n",
    "#print(df.quantile(.75))\n",
    "print(df.quantile(.5))\n",
    "\n",
    "df = df.fillna(df.median())\n",
    "\n",
    "\n",
    "\n",
    "\n",
    "print(\"A\")\n",
    "print(df)"
   ]
  },
  {
   "cell_type": "code",
   "execution_count": 144,
   "metadata": {},
   "outputs": [
    {
     "data": {
      "text/plain": [
       "2"
      ]
     },
     "execution_count": 144,
     "metadata": {},
     "output_type": "execute_result"
    }
   ],
   "source": [
    "round(2.50)"
   ]
  },
  {
   "cell_type": "code",
   "execution_count": 190,
   "metadata": {},
   "outputs": [
    {
     "data": {
      "text/plain": [
       "col1     6.0\n",
       "col2    11.0\n",
       "dtype: float64"
      ]
     },
     "execution_count": 190,
     "metadata": {},
     "output_type": "execute_result"
    }
   ],
   "source": [
    "df.median()"
   ]
  },
  {
   "cell_type": "code",
   "execution_count": 206,
   "metadata": {},
   "outputs": [
    {
     "name": "stdout",
     "output_type": "stream",
     "text": [
      "col1    4.5\n",
      "col2    9.5\n",
      "Name: 0.25, dtype: float64\n",
      "col1     6.0\n",
      "col2    11.0\n",
      "Name: 0.5, dtype: float64\n",
      "10.5\n",
      "20.5\n"
     ]
    }
   ],
   "source": [
    "quantile1 = df.quantile(.25)\n",
    "quantile3 = df.quantile(.75)\n",
    "\n",
    "\n",
    "medians = df.quantile(.50)\n",
    "print(quantile1)\n",
    "print(medians)\n",
    "\n",
    "# for col in medians:\n",
    "#     print(col)\n",
    "    \n",
    "\n",
    "\n",
    "\n"
   ]
  },
  {
   "cell_type": "code",
   "execution_count": 26,
   "metadata": {},
   "outputs": [],
   "source": [
    "a = [\"a\"]\n",
    "if a == []:\n",
    "    print(\"HI\")"
   ]
  },
  {
   "cell_type": "code",
   "execution_count": 37,
   "metadata": {},
   "outputs": [
    {
     "data": {
      "text/plain": [
       "True"
      ]
     },
     "execution_count": 37,
     "metadata": {},
     "output_type": "execute_result"
    }
   ],
   "source": [
    "type(['a'])\n",
    "type('a')==str"
   ]
  },
  {
   "cell_type": "code",
   "execution_count": 59,
   "metadata": {},
   "outputs": [
    {
     "name": "stdout",
     "output_type": "stream",
     "text": [
      "{'a': 0, 'b': 1}\n"
     ]
    }
   ],
   "source": [
    "df = pd.DataFrame({'col1': [1,1, 2,3,4,5], 'col2': ['a', 'b',None, None, None,None]})\n",
    "\n",
    "# for cat in ['col2','col1']:\n",
    "#     print(\"Levels for catgeory '{0}': {1}\".format(cat, df[cat].unique()))\n",
    "\n",
    "# df['col2']=df['col2'].map({'a':0,'b':1})\n",
    "\n",
    "# df_class = df['col2'].values\n",
    "# df_class\n",
    "\n",
    "# for cat in ['col2']:\n",
    "#     print(cat)\n",
    "    \n",
    "\n",
    "\n"
   ]
  },
  {
   "cell_type": "code",
   "execution_count": null,
   "metadata": {
    "collapsed": true
   },
   "outputs": [],
   "source": []
  },
  {
   "cell_type": "code",
   "execution_count": null,
   "metadata": {
    "collapsed": true
   },
   "outputs": [],
   "source": []
  },
  {
   "cell_type": "code",
   "execution_count": null,
   "metadata": {
    "collapsed": true
   },
   "outputs": [],
   "source": []
  },
  {
   "cell_type": "code",
   "execution_count": null,
   "metadata": {
    "collapsed": true
   },
   "outputs": [],
   "source": []
  },
  {
   "cell_type": "code",
   "execution_count": null,
   "metadata": {
    "collapsed": true
   },
   "outputs": [],
   "source": []
  },
  {
   "cell_type": "code",
   "execution_count": null,
   "metadata": {
    "collapsed": true
   },
   "outputs": [],
   "source": []
  },
  {
   "cell_type": "code",
   "execution_count": null,
   "metadata": {
    "collapsed": true
   },
   "outputs": [],
   "source": []
  }
 ],
 "metadata": {
  "kernelspec": {
   "display_name": "Python 3",
   "language": "python",
   "name": "python3"
  },
  "language_info": {
   "codemirror_mode": {
    "name": "ipython",
    "version": 3
   },
   "file_extension": ".py",
   "mimetype": "text/x-python",
   "name": "python",
   "nbconvert_exporter": "python",
   "pygments_lexer": "ipython3",
   "version": "3.6.1"
  }
 },
 "nbformat": 4,
 "nbformat_minor": 2
}
