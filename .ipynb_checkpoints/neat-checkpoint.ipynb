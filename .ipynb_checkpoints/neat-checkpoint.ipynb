{
 "cells": [
  {
   "cell_type": "code",
   "execution_count": 4,
   "metadata": {},
   "outputs": [
    {
     "data": {
      "text/plain": [
       "{'categoryColumns': [], 'datetimeColumns': [], 'df':    col1  col2\n",
       " 3   4.0   8.0\n",
       " 4   5.0   9.0\n",
       " 5   6.0  10.0\n",
       " 6   7.0  11.0\n",
       " 7   8.0  12.0\n",
       " 8   9.0  13.0\n",
       " 9   6.5  14.0, 'lowerBounds': {'col1': 4.0,\n",
       "  'col2': 8.0}, 'medians': col1     6.5\n",
       " col2    11.0\n",
       " Name: 0.5, dtype: float64, 'numberColumns': ['col1',\n",
       "  'col2'], 'targetY': 'col2', 'upperBounds': {'col1': 9.0, 'col2': 14.0}}"
      ]
     },
     "execution_count": 4,
     "metadata": {},
     "output_type": "execute_result"
    }
   ],
   "source": [
    "import pandas as pd\n",
    "import numpy as np\n",
    "\n",
    "# Maybe: Print all of this code into Python \n",
    "# code to be used or not used by others\n",
    "# Probably should keep the function names.\n",
    "class Neat:\n",
    "    \n",
    "    def __init__(self, df, targetY):\n",
    "        self.targetY = targetY\n",
    "        self.df = df\n",
    "        self.numberColumns = []\n",
    "        self.categoryColumns = []\n",
    "        self.datetimeColumns = []\n",
    "        self.autoIncrementColumns = []\n",
    "        \n",
    "        self._setColumnDataTypes()    \n",
    "        self._dropNATargets()\n",
    "        # self.df = self.df.drop_duplicates(subset=['col1', 'col2'])\n",
    "        # self.df = self.df.drop_duplicates()\n",
    "        self._saveMediansAndBounds()\n",
    "        self._fixMissingValuesAndInfinity()\n",
    "        self._setValuesToWithinBounds()\n",
    "        self._identifyAutoIncrementColumns()\n",
    "                \n",
    "    def _setColumnDataTypes(self):\n",
    "        columns = self.df.columns.values.tolist()\n",
    "        for column in columns:    \n",
    "            if self.df[column].dtype == 'int64' or self.df[column].dtype == 'float64':\n",
    "                self.numberColumns.append(column)\n",
    "            elif df[column].dtype == 'object':\n",
    "                self.categoryColumns.append(column)\n",
    "            else:\n",
    "                self.datetimeColumns.append(column) \n",
    "\n",
    "    def _dropNATargets(self):    \n",
    "        rowsToDrop = []\n",
    "        for i, row in self.df.iterrows():    \n",
    "            rowsToDrop.append(i) if np.isnan(row[self.targetY]) else None            \n",
    "        self.df = self.df.drop(self.df.index[rowsToDrop])\n",
    "\n",
    "    def _saveMediansAndBounds(self):        \n",
    "        firstQuantiles = self.df.quantile(.25)\n",
    "        thirdQuantiles = self.df.quantile(.75)\n",
    "        \n",
    "        self.medians = self.df.quantile(.50)\n",
    "        self.lowerBounds = {}\n",
    "        self.upperBounds = {}\n",
    "        for column in self.numberColumns:            \n",
    "            self.lowerBounds[column] = self.medians[column] - 2*(self.medians[column] - firstQuantiles[column])\n",
    "            self.upperBounds[column] = self.medians[column] + 2*(thirdQuantiles[column] - self.medians[column])        \n",
    "        \n",
    "    def _fixMissingValuesAndInfinity(self):\n",
    "        self.df = self.df.fillna(self.medians)\n",
    "        self._fixInfinityValues()\n",
    "    \n",
    "    def _fixInfinityValues(self):\n",
    "        df.replace([np.inf, -np.inf], np.nan)\n",
    "        self.df = self.df.fillna(self.upperBounds)\n",
    "        \n",
    "    def _setValuesToWithinBounds(self):\n",
    "        for i, row in self.df.iterrows(): \n",
    "            for column in self.numberColumns:\n",
    "                if row[column] > self.upperBounds[column]:\n",
    "                    row[column] = self.upperBounds[column]\n",
    "                if row[column] < self.lowerBounds[column]:\n",
    "                    row[column] = self.lowerBounds[column]\n",
    "    \n",
    "    def _setAutoIncrementColumns(self):\n",
    "        for column in self.numberColumns:         \n",
    "            if False:\n",
    "                self.autoIncrementColumns.append(column)\n",
    "        \n",
    "        \n",
    "    \n",
    "targetY = 'col2'\n",
    "df = pd.DataFrame({'col1': [None,None,3,4,5,6,7,8,9,None], 'col2': [None,None,None,8,9,10,11,12,13,14]})\n",
    "\n",
    "neat = Neat(df, targetY)\n",
    "\n",
    "vars(neat)\n",
    "    \n",
    "    \n",
    "\n",
    "    \n",
    "    \n"
   ]
  },
  {
   "cell_type": "code",
   "execution_count": null,
   "metadata": {
    "collapsed": true
   },
   "outputs": [],
   "source": []
  },
  {
   "cell_type": "code",
   "execution_count": null,
   "metadata": {
    "collapsed": true
   },
   "outputs": [],
   "source": []
  },
  {
   "cell_type": "code",
   "execution_count": null,
   "metadata": {
    "collapsed": true
   },
   "outputs": [],
   "source": []
  },
  {
   "cell_type": "code",
   "execution_count": 104,
   "metadata": {},
   "outputs": [
    {
     "name": "stdout",
     "output_type": "stream",
     "text": [
      "['col1', 'col2']\n",
      "['col1', 'col2']\n",
      "[]\n",
      "[]\n"
     ]
    }
   ],
   "source": [
    "df = pd.DataFrame({'col1': [1,1, 2,3,4,5], 'col2': [3, 3,None, None, None,None]})\n",
    "df\n",
    "df.columns.values.tolist()\n",
    "df.dtypes\n",
    "\n",
    "    \n",
    "       \n",
    "        \n",
    "print(numberColumns)        \n",
    "print(categoryColumns)        \n",
    "print(datetimeColumns)        \n"
   ]
  },
  {
   "cell_type": "code",
   "execution_count": 181,
   "metadata": {},
   "outputs": [
    {
     "name": "stdout",
     "output_type": "stream",
     "text": [
      "col1    1.5\n",
      "col2    3.0\n",
      "Name: 0.5, dtype: float64\n",
      "A\n",
      "   col1  col2\n",
      "0   1.0   2.0\n",
      "1   2.0   4.0\n",
      "2   1.5   3.0\n"
     ]
    }
   ],
   "source": [
    "df = pd.DataFrame({'col1': [1,2,None],'col2': [2,4,None]})\n",
    "#print(df)\n",
    "\n",
    "\n",
    "#print(df.quantile(.25))\n",
    "#print(df.quantile(.5))\n",
    "#print(df.quantile(.75))\n",
    "print(df.quantile(.5))\n",
    "\n",
    "df = df.fillna(df.median())\n",
    "\n",
    "\n",
    "\n",
    "\n",
    "print(\"A\")\n",
    "print(df)"
   ]
  },
  {
   "cell_type": "code",
   "execution_count": 144,
   "metadata": {},
   "outputs": [
    {
     "data": {
      "text/plain": [
       "2"
      ]
     },
     "execution_count": 144,
     "metadata": {},
     "output_type": "execute_result"
    }
   ],
   "source": [
    "round(2.50)"
   ]
  },
  {
   "cell_type": "code",
   "execution_count": 190,
   "metadata": {},
   "outputs": [
    {
     "data": {
      "text/plain": [
       "col1     6.0\n",
       "col2    11.0\n",
       "dtype: float64"
      ]
     },
     "execution_count": 190,
     "metadata": {},
     "output_type": "execute_result"
    }
   ],
   "source": [
    "df.median()"
   ]
  },
  {
   "cell_type": "code",
   "execution_count": 206,
   "metadata": {},
   "outputs": [
    {
     "name": "stdout",
     "output_type": "stream",
     "text": [
      "col1    4.5\n",
      "col2    9.5\n",
      "Name: 0.25, dtype: float64\n",
      "col1     6.0\n",
      "col2    11.0\n",
      "Name: 0.5, dtype: float64\n",
      "10.5\n",
      "20.5\n"
     ]
    }
   ],
   "source": [
    "quantile1 = df.quantile(.25)\n",
    "quantile3 = df.quantile(.75)\n",
    "\n",
    "\n",
    "medians = df.quantile(.50)\n",
    "print(quantile1)\n",
    "print(medians)\n",
    "\n",
    "# for col in medians:\n",
    "#     print(col)\n",
    "    \n",
    "\n",
    "\n",
    "\n"
   ]
  },
  {
   "cell_type": "code",
   "execution_count": null,
   "metadata": {
    "collapsed": true
   },
   "outputs": [],
   "source": []
  }
 ],
 "metadata": {
  "kernelspec": {
   "display_name": "Python 3",
   "language": "python",
   "name": "python3"
  },
  "language_info": {
   "codemirror_mode": {
    "name": "ipython",
    "version": 3
   },
   "file_extension": ".py",
   "mimetype": "text/x-python",
   "name": "python",
   "nbconvert_exporter": "python",
   "pygments_lexer": "ipython3",
   "version": "3.6.1"
  }
 },
 "nbformat": 4,
 "nbformat_minor": 2
}
